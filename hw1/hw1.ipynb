{
 "cells": [
  {
   "cell_type": "markdown",
   "metadata": {},
   "source": [
    "# Using Python for Research Homework: Week 1\n",
    "\n",
    "In this homework, we will use objects, functions, and randomness to find the length of documents, approximate $\\pi$, and smooth out random noise."
   ]
  },
  {
   "cell_type": "markdown",
   "metadata": {},
   "source": [
    "### Exercise 1\n",
    "\n",
    "In this five-part exercise, we will count the frequency of each letter in a given string.\n",
    "\n",
    "#### Exercise 1a\n",
    "\n",
    "- Import the `string` library.\n",
    "- Create a variable `alphabet` that consists of the lowercase and uppercase letters in the English alphabet using the `ascii_letters` data attribute of the `string` library."
   ]
  },
  {
   "cell_type": "code",
   "execution_count": 1,
   "metadata": {},
   "outputs": [
    {
     "name": "stdout",
     "output_type": "stream",
     "text": [
      "abcdefghijklmnopqrstuvwxyzABCDEFGHIJKLMNOPQRSTUVWXYZ\n"
     ]
    }
   ],
   "source": [
    "import string\n",
    "\n",
    "alphabet = string.ascii_letters\n",
    "\n",
    "print(alphabet)"
   ]
  },
  {
   "cell_type": "markdown",
   "metadata": {},
   "source": [
    "#### Exercise 1b\n",
    "- The lower and upper case letters of the English alphabet should stored as the string variable `alphabet`.\n",
    "- Consider the sentence 'Jim quickly realized that the beautiful gowns are expensive'. Create a dictionary `count_letters` with keys consisting of each unique letter in the sentence and values consisting of the number of times each letter is used in this sentence. Count upper case and lower case letters separately in the dictionary."
   ]
  },
  {
   "cell_type": "code",
   "execution_count": 13,
   "metadata": {},
   "outputs": [
    {
     "name": "stdout",
     "output_type": "stream",
     "text": [
      "{'J': 1, 'i': 5, 'm': 1, 'q': 1, 'u': 3, 'c': 1, 'k': 1, 'l': 3, 'y': 1, 'r': 2, 'e': 8, 'a': 4, 'z': 1, 'd': 1, 't': 4, 'h': 2, 'b': 1, 'f': 1, 'g': 1, 'o': 1, 'w': 1, 'n': 2, 's': 2, 'x': 1, 'p': 1, 'v': 1}\n",
      "(0, 1)\n",
      "(1, 5)\n",
      "(2, 1)\n",
      "(3, 1)\n",
      "(4, 3)\n",
      "(5, 1)\n",
      "(6, 1)\n",
      "(7, 3)\n",
      "(8, 1)\n",
      "(9, 2)\n",
      "(10, 8)\n",
      "(11, 4)\n",
      "(12, 1)\n",
      "(13, 1)\n",
      "(14, 4)\n",
      "(15, 2)\n",
      "(16, 1)\n",
      "(17, 1)\n",
      "(18, 1)\n",
      "(19, 1)\n",
      "(20, 1)\n",
      "(21, 2)\n",
      "(22, 2)\n",
      "(23, 1)\n",
      "(24, 1)\n",
      "(25, 1)\n"
     ]
    }
   ],
   "source": [
    "sentence = 'Jim quickly realized that the beautiful gowns are expensive'\n",
    "\n",
    "count_letters = {}\n",
    "for letter in sentence:\n",
    "    if letter in alphabet:\n",
    "        if letter in count_letters:\n",
    "            count_letters[letter] += 1\n",
    "        else:\n",
    "            count_letters[letter] = 1\n",
    "\n",
    "print(count_letters)\n",
    "\n",
    "for val in enumerate(count_letters.values()):\n",
    "    print(val)"
   ]
  },
  {
   "cell_type": "markdown",
   "metadata": {},
   "source": [
    "#### Exercise 1c\n",
    "- Rewrite your code from 1b to make a function called `counter` that takes a string `input_string` and returns a dictionary of letter counts `count_letters`.\n",
    "- Use your function to call `counter(sentence)`."
   ]
  },
  {
   "cell_type": "code",
   "execution_count": 4,
   "metadata": {},
   "outputs": [
    {
     "name": "stdout",
     "output_type": "stream",
     "text": [
      "{'J': 1, 'i': 5, 'm': 1, 'q': 1, 'u': 3, 'c': 1, 'k': 1, 'l': 3, 'y': 1, 'r': 2, 'e': 8, 'a': 4, 'z': 1, 'd': 1, 't': 4, 'h': 2, 'b': 1, 'f': 1, 'g': 1, 'o': 1, 'w': 1, 'n': 2, 's': 2, 'x': 1, 'p': 1, 'v': 1}\n"
     ]
    }
   ],
   "source": [
    "def counter(input_string):\n",
    "    count_letters = {}\n",
    "    for letter in input_string:\n",
    "        if letter in alphabet:\n",
    "            if letter in count_letters:\n",
    "                count_letters[letter] += 1\n",
    "            else:\n",
    "                count_letters[letter] = 1\n",
    "    return count_letters\n",
    "\n",
    "\n",
    "sentence = 'Jim quickly realized that the beautiful gowns are expensive'\n",
    "print(counter(sentence))"
   ]
  },
  {
   "cell_type": "markdown",
   "metadata": {},
   "source": [
    "#### Exercise 1d\n",
    "- Abraham Lincoln was a president during the American Civil War. His famous 1863 Gettysburg Address has been stored as `address`. Use the `counter` function from 1c to return a dictionary consisting of the count of each letter in this address and save it as `address_count`."
   ]
  },
  {
   "cell_type": "code",
   "execution_count": 14,
   "metadata": {},
   "outputs": [
    {
     "name": "stdout",
     "output_type": "stream",
     "text": [
      "{'F': 1, 'o': 93, 'u': 21, 'r': 79, 's': 44, 'c': 31, 'e': 165, 'a': 102, 'n': 76, 'd': 58, 'v': 24, 'y': 10, 'g': 27, 'f': 26, 't': 124, 'h': 80, 'b': 13, 'i': 65, 'w': 26, 'L': 1, 'p': 15, 'l': 41, 'm': 13, 'q': 1, 'N': 1, 'W': 2, 'I': 3, 'B': 1, 'T': 2, 'k': 3, 'G': 1}\n",
      "80\n"
     ]
    }
   ],
   "source": [
    "address = \"\"\"Four score and seven years ago our fathers brought forth on this continent, a new nation, \n",
    "conceived in Liberty, and dedicated to the proposition that all men are created equal. Now we are engaged in a \n",
    "great civil war, testing whether that nation, or any nation so conceived and so dedicated, can long endure. \n",
    "We are met on a great battle-field of that war. We have come to dedicate a portion of that field, as a final \n",
    "resting place for those who here gave their lives that that nation might live. It is altogether fitting and proper \n",
    "that we should do this. But, in a larger sense, we can not dedicate -- we can not consecrate -- we can not hallow -- \n",
    "this ground. The brave men, living and dead, who struggled here, have consecrated it, far above our poor power to add \n",
    "or detract. The world will little note, nor long remember what we say here, but it can never forget what they did here. \n",
    "It is for us the living, rather, to be dedicated here to the unfinished work which they who fought here have thus far so \n",
    "nobly advanced. It is rather for us to be here dedicated to the great task remaining before us -- that from these honored \n",
    "dead we take increased devotion to that cause for which they gave the last full measure of devotion -- that we here \n",
    "highly resolve that these dead shall not have died in vain -- that this nation, under God, shall have a new birth of \n",
    "freedom -- and that government of the people, by the people, for the people, shall not perish from the earth.\"\"\"   \n",
    "\n",
    "\n",
    "address_count = counter(address)\n",
    "print(address_count)\n",
    "print(address_count['h'])"
   ]
  },
  {
   "cell_type": "markdown",
   "metadata": {},
   "source": [
    "#### Exercise 1f\n",
    "- The frequency of each letter in the Gettysburg Address is already stored as `address_count`. Use this dictionary to find the most common letter in the Gettysburg address."
   ]
  },
  {
   "cell_type": "code",
   "execution_count": 9,
   "metadata": {},
   "outputs": [
    {
     "name": "stdout",
     "output_type": "stream",
     "text": [
      "e 165\n"
     ]
    }
   ],
   "source": [
    "# most_common_letter, max_frequency = max(address_count.items(), key=lambda item: item[1])\n",
    "\n",
    "max_frequency = 0\n",
    "most_common_letter = \"\"\n",
    "\n",
    "for letter, frequency in address_count.items():\n",
    "    if frequency > max_frequency:\n",
    "        max_frequency = frequency\n",
    "        most_common_letter = letter\n",
    "\n",
    "print(most_common_letter, max_frequency)"
   ]
  },
  {
   "cell_type": "markdown",
   "metadata": {},
   "source": [
    "### Exercise 2\n",
    "\n",
    "Consider a circle inscribed in a square. The ratio of their areas (the ratio of the area of the circle to the area of the square) is $\\frac{\\pi}{4}$. In this six-part exercise, we will find a way to approximate this value.\n",
    "\n",
    "#### Exercise 2a\n",
    "- Using the `math` library, calculate and print the value of $\\frac{\\pi}{4}$"
   ]
  },
  {
   "cell_type": "code",
   "execution_count": 15,
   "metadata": {},
   "outputs": [
    {
     "name": "stdout",
     "output_type": "stream",
     "text": [
      "0.7853981633974483\n"
     ]
    }
   ],
   "source": [
    "import math\n",
    "\n",
    "print(math.pi / 4)"
   ]
  },
  {
   "cell_type": "markdown",
   "metadata": {},
   "source": [
    "#### Exercise 2b\n",
    "- Using `random.uniform()`, create a function `rand()` that generates a single float between $-1$ and $1$.\n",
    "- Call `rand()` once. For us to be able to check your solution, we will use `random.seed()` to fix the seed value of the random number generator."
   ]
  },
  {
   "cell_type": "code",
   "execution_count": 16,
   "metadata": {},
   "outputs": [
    {
     "data": {
      "text/plain": [
       "-0.7312715117751976"
      ]
     },
     "execution_count": 16,
     "metadata": {},
     "output_type": "execute_result"
    }
   ],
   "source": [
    "import random\n",
    "\n",
    "random.seed(1)\n",
    "\n",
    "def rand():\n",
    "   return random.uniform(-1, 1)\n",
    "\n",
    "rand()"
   ]
  },
  {
   "cell_type": "markdown",
   "metadata": {},
   "source": [
    "#### Exercise 2c\n",
    "- The distance between two points x and y is the square root of the sum of squared differences along each dimension of x and y. Write a function` distance(x, y)` that takes two vectors as its input and outputs the distance between them. Use your function to find the distance between $x=(0,0)$ and $y=(1,1)$."
   ]
  },
  {
   "cell_type": "code",
   "execution_count": 17,
   "metadata": {},
   "outputs": [
    {
     "name": "stdout",
     "output_type": "stream",
     "text": [
      "1.4142135623730951\n"
     ]
    }
   ],
   "source": [
    "def distance(x, y):\n",
    "   squared_distances = [(x_i - y_i)**2 for x_i, y_i in zip(x, y)]\n",
    "   distance = math.sqrt(sum(squared_distances))\n",
    "   return distance\n",
    "\n",
    "x = (0, 0)\n",
    "y = (1, 1)\n",
    "\n",
    "print(distance(x, y))"
   ]
  },
  {
   "cell_type": "markdown",
   "metadata": {},
   "source": [
    "#### Exercise 2d\n",
    "\n",
    "- Write a function `in_circle(x, origin)` that determines whether a point in a two dimensional plane falls within a unit circle surrounding a given origin.\n",
    "    - Your function should return a boolean `True` if the distance between `x` and `origin` is less than 1 and `False` otherwise.\n",
    "    - Use `distance(x, y)` as defined in 2c.\n",
    "- Use your function to determine whether the point (1,1) lies within the unit circle centered at (0,0)."
   ]
  },
  {
   "cell_type": "code",
   "execution_count": 18,
   "metadata": {},
   "outputs": [
    {
     "name": "stdout",
     "output_type": "stream",
     "text": [
      "False\n"
     ]
    }
   ],
   "source": [
    "def in_circle(x, origin = [0,0]):\n",
    "   res = True if  distance(origin, x) < 1 else False\n",
    "   return res\n",
    "\n",
    "point = (1, 1)\n",
    "center = (0, 0)\n",
    "print(in_circle(point, center))"
   ]
  },
  {
   "cell_type": "markdown",
   "metadata": {},
   "source": [
    "#### Exercise 2e\n",
    "\n",
    "- Create a list `inside` of `R=10000` booleans that determines whether or not a point falls within the unit circle centered at `(0,0)`. \n",
    "    - Use the `rand` function from 2b to generate `R` randomly located points.\n",
    "    - Use the function `in_circle` to test whether or not a given pint falls within the unit circle.\n",
    "- Find the proportion of points that fall within the circle by summing all `True` values in the `inside` list; then divide the answer by `R` to obtain a proportion.\n",
    "- Print your answer. This proportion is an estimate of the ratio of the two areas!"
   ]
  },
  {
   "cell_type": "code",
   "execution_count": 20,
   "metadata": {},
   "outputs": [
    {
     "name": "stdout",
     "output_type": "stream",
     "text": [
      "0.779\n"
     ]
    }
   ],
   "source": [
    "random.seed(1) \n",
    "\n",
    "R = 10000\n",
    "\n",
    "inside = [in_circle((rand(), rand()), (0, 0)) for _ in range(R)]\n",
    "\n",
    "number_of_inner_points = inside.count(True)\n",
    "ratio = number_of_inner_points / R\n",
    "\n",
    "print(ratio)"
   ]
  },
  {
   "cell_type": "markdown",
   "metadata": {},
   "source": [
    "#### Exercise 2f\n",
    "\n",
    "- Find the difference between your estimate from part 2e and `math.pi / 4`. Note: `inside` and `R` are defined as in Exercise 2e."
   ]
  },
  {
   "cell_type": "code",
   "execution_count": 22,
   "metadata": {},
   "outputs": [
    {
     "name": "stdout",
     "output_type": "stream",
     "text": [
      "0.006398163397448253\n"
     ]
    }
   ],
   "source": [
    "res = ratio - (math.pi / 4) \n",
    "\n",
    "print(abs(res))"
   ]
  },
  {
   "cell_type": "markdown",
   "metadata": {},
   "source": [
    "### Exercise 3\n",
    "\n",
    "A list of numbers representing measurements obtained from a system of interest can often be noisy. One way to deal with noise to smoothen the values by replacing each value with the average of the value and the values of its neighbors.\n",
    "\n",
    "#### Exercise 3a\n",
    "\n",
    "- Write a function `moving_window_average(x, n_neighbors)` that takes a list `x` and the number of neighbors `n_neighbors` on either side of a given member of the list to consider.\n",
    "- For each value in `x`, `moving_window_average(x, n_neighbors)` computes the average of the value and the values of its neighbors.\n",
    "- `moving_window_average` should return a list of averaged values that is the same length as the original list.\n",
    "- If there are not enough neighbors (for cases near the edge), substitute the original value for a neighbor for each missing neighbor.\n",
    "- Use your function to find the moving window sum of `x=[0,10,5,3,1,5]` and `n_neighbors=1`."
   ]
  },
  {
   "cell_type": "code",
   "execution_count": 76,
   "metadata": {},
   "outputs": [
    {
     "name": "stdout",
     "output_type": "stream",
     "text": [
      "[3.3333333333333335, 5.0, 6.0, 3.0, 3.0, 3.6666666666666665]\n"
     ]
    }
   ],
   "source": [
    "def moving_window_average(x, n_neighbors=1):\n",
    "    n = len(x)\n",
    "    width = n_neighbors*2 + 1\n",
    "    x = [x[0]]*n_neighbors + x + [x[-1]]*n_neighbors # construct new list with \"side\" elements\n",
    "    result = []\n",
    "    \n",
    "    for i in range(n_neighbors, n_neighbors + n):\n",
    "        window_sum = sum(x[i - n_neighbors : i + n_neighbors + 1])\n",
    "        result.append(window_sum / width)\n",
    "\n",
    "    return result\n",
    "\n",
    "x = [0, 10, 5, 3, 1, 5]\n",
    "print(moving_window_average(x, 1))"
   ]
  },
  {
   "cell_type": "markdown",
   "metadata": {},
   "source": [
    "#### Exercise 3b\n",
    "- Compute and store `R=1000` random values from 0-1 as `x`.\n",
    "- Compute the moving window average for `x` for values of `n_neighbors` ranging from 1 to 9 inclusive.\n",
    "- Store `x` as well as each of these averages as consecutive lists in a list called `Y`"
   ]
  },
  {
   "cell_type": "code",
   "execution_count": 84,
   "metadata": {},
   "outputs": [
    {
     "name": "stdout",
     "output_type": "stream",
     "text": [
      "0.453250458247634\n"
     ]
    }
   ],
   "source": [
    "random.seed(1)\n",
    "R = 1000\n",
    "\n",
    "x = [random.uniform(0, 1) for _ in range(R)]\n",
    "Y = [moving_window_average(x, n_neighbors) for n_neighbors in range(1, 10)]\n",
    "\n",
    "print(Y[4][9])\n"
   ]
  },
  {
   "cell_type": "markdown",
   "metadata": {},
   "source": [
    "#### Exercise 3c\n",
    "\n",
    "- For each list in `Y`, calculate and store the range (the maximum minus the minimum) in a new list ranges.\n",
    "- Print your answer. As the window width increases, does the range of each list increase or decrease? Why do you think that is?"
   ]
  },
  {
   "cell_type": "code",
   "execution_count": 82,
   "metadata": {},
   "outputs": [
    {
     "name": "stdout",
     "output_type": "stream",
     "text": [
      "[0.9128390185520854, 0.8016457719093972, 0.7137391224212466, 0.6230146948375027, 0.5042284086774562, 0.507101375310163, 0.4590090496908159, 0.4465954953908327, 0.4433696944090051]\n"
     ]
    }
   ],
   "source": [
    "ranges = [(max(lst) - min(lst)) for lst in Y]\n",
    "\n",
    "print(ranges)"
   ]
  },
  {
   "cell_type": "markdown",
   "metadata": {},
   "source": [
    "We observe that as the window size increases, the `range` decreases. This occurs due to the effect of smoothing outliers. \n",
    "\n",
    "Let's consider the value of the average of window elements. $f(w, \\textit{rd}) = \\frac{\\sum_{i=1}^{w} \\textit{rd}}{w}$ , where `rd` is a function generates random value between 0 and 1.\n",
    "\n",
    "Let's define `min_max_substring_sums` function that returns a dictionary with minimum and maximum of average in windows with corresponding substrings."
   ]
  },
  {
   "cell_type": "code",
   "execution_count": 103,
   "metadata": {},
   "outputs": [],
   "source": [
    "def min_max_substring_sums(lst, n_neighbors):\n",
    "    x = [lst[0]] * n_neighbors + lst + [lst[-1]] * n_neighbors # construct new list with \"side\" elements\n",
    "    width = n_neighbors * 2 + 1\n",
    "    max_substring = min_substring = x[0:width]\n",
    "    max_avg = 0\n",
    "    min_avg = max(lst) * len(lst) + 1\n",
    "\n",
    "    for i in range(n_neighbors, n_neighbors + len(lst)):\n",
    "        window_sum = sum(x[i - n_neighbors : i + n_neighbors + 1])\n",
    "        avg = window_sum / width\n",
    "        if avg > max_avg:\n",
    "            max_avg = avg\n",
    "            max_substring = x[i - n_neighbors : i + n_neighbors + 1]\n",
    "            continue\n",
    "        if avg < min_avg:\n",
    "            min_avg = avg\n",
    "            min_substring = x[i - n_neighbors : i + n_neighbors + 1]\n",
    "        \n",
    "    return {\"min\": (min_avg, tuple(min_substring)), \"max\": {max_avg, tuple(max_substring)}}"
   ]
  },
  {
   "cell_type": "markdown",
   "metadata": {},
   "source": [
    "Run it on a `test_x` list with a different numbers of neighbors."
   ]
  },
  {
   "cell_type": "code",
   "execution_count": 105,
   "metadata": {},
   "outputs": [
    {
     "name": "stdout",
     "output_type": "stream",
     "text": [
      "n_neighbors = w = 1: {'min': (0.32, (0.51, 0.44, 0.01)), 'max': {0.6866666666666666, (0.96, 0.55, 0.55)}}\n",
      "n_neighbors = w = 2: {'min': (0.41200000000000003, (0.44, 0.01, 0.62, 0.65, 0.34)), 'max': {0.624, (0.62, 0.65, 0.34, 0.96, 0.55)}}\n",
      "n_neighbors = w = 3: {'min': (0.44, (0.51, 0.51, 0.44, 0.01, 0.62, 0.65, 0.34)), 'max': {0.6028571428571429, (0.62, 0.65, 0.34, 0.96, 0.55, 0.55, 0.55)}}\n"
     ]
    }
   ],
   "source": [
    "test_x = [0.51, 0.44, 0.01, 0.62, 0.65, 0.34, 0.96, 0.55]\n",
    "res = [min_max_substring_sums(test_x, n) for n in range(1, 4)]\n",
    "\n",
    "for i in range(3):\n",
    "    print(f\"n_neighbors = w = {i + 1}: {res[i]}\")"
   ]
  },
  {
   "cell_type": "markdown",
   "metadata": {},
   "source": [
    "We can see that for relatively small `w`, the influence of outliers in the denominator of function `f` will be significant. This will affect the max and min value of the list. \n",
    "\n",
    "However, for large `w`, the value will be neutralized by other values. This \"other values\" tends to $\\frac{1}{2}$, because the expected value of a uniform distribution (to which the `rd` function should conform) $E(X) = \\frac{A + B}{2}$, where `A` and `B` is a borders of a distribution. In our case $E(X) = \\frac{0 + 1}{2} = \\frac{1}{2}$. Consequently, as `w` increases, the function $f(w, \\textit{rd}) = \\frac{\\sum_{i=1}^{w} \\textit{rd}}{w}$ will also tend towards $\\frac{1}{2}$."
   ]
  }
 ],
 "metadata": {
  "kernelspec": {
   "display_name": "venv",
   "language": "python",
   "name": "python3"
  },
  "language_info": {
   "codemirror_mode": {
    "name": "ipython",
    "version": 3
   },
   "file_extension": ".py",
   "mimetype": "text/x-python",
   "name": "python",
   "nbconvert_exporter": "python",
   "pygments_lexer": "ipython3",
   "version": "3.12.4"
  }
 },
 "nbformat": 4,
 "nbformat_minor": 2
}
